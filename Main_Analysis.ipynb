{
 "cells": [
  {
   "cell_type": "code",
   "execution_count": 1,
   "metadata": {},
   "outputs": [],
   "source": [
    "import os\n",
    "import pandas as pd\n",
    "import matplotlib.pyplot as plt"
   ]
  },
  {
   "cell_type": "code",
   "execution_count": 3,
   "metadata": {},
   "outputs": [],
   "source": [
    "#Add your file path here\n",
    "stock_path = os.path.join(\"Resources\",\"FB_daily_stock_yahoo.csv\")\n",
    "employee_reviews_path = os.path.join(\"Resources\",\"employee_reviews.csv\")"
   ]
  },
  {
   "cell_type": "markdown",
   "metadata": {},
   "source": [
    "## Facebook Stock Data "
   ]
  },
  {
   "cell_type": "code",
   "execution_count": 4,
   "metadata": {},
   "outputs": [
    {
     "data": {
      "text/html": [
       "<div>\n",
       "<style scoped>\n",
       "    .dataframe tbody tr th:only-of-type {\n",
       "        vertical-align: middle;\n",
       "    }\n",
       "\n",
       "    .dataframe tbody tr th {\n",
       "        vertical-align: top;\n",
       "    }\n",
       "\n",
       "    .dataframe thead th {\n",
       "        text-align: right;\n",
       "    }\n",
       "</style>\n",
       "<table border=\"1\" class=\"dataframe\">\n",
       "  <thead>\n",
       "    <tr style=\"text-align: right;\">\n",
       "      <th></th>\n",
       "      <th>Date</th>\n",
       "      <th>Open</th>\n",
       "      <th>High</th>\n",
       "      <th>Low</th>\n",
       "      <th>Close</th>\n",
       "      <th>Adj Close</th>\n",
       "      <th>Volume</th>\n",
       "    </tr>\n",
       "  </thead>\n",
       "  <tbody>\n",
       "    <tr>\n",
       "      <th>0</th>\n",
       "      <td>2017-01-03</td>\n",
       "      <td>116.029999</td>\n",
       "      <td>117.839996</td>\n",
       "      <td>115.510002</td>\n",
       "      <td>116.860001</td>\n",
       "      <td>116.860001</td>\n",
       "      <td>20663900</td>\n",
       "    </tr>\n",
       "    <tr>\n",
       "      <th>1</th>\n",
       "      <td>2017-01-04</td>\n",
       "      <td>117.550003</td>\n",
       "      <td>119.660004</td>\n",
       "      <td>117.290001</td>\n",
       "      <td>118.690002</td>\n",
       "      <td>118.690002</td>\n",
       "      <td>19630900</td>\n",
       "    </tr>\n",
       "    <tr>\n",
       "      <th>2</th>\n",
       "      <td>2017-01-05</td>\n",
       "      <td>118.860001</td>\n",
       "      <td>120.949997</td>\n",
       "      <td>118.320000</td>\n",
       "      <td>120.669998</td>\n",
       "      <td>120.669998</td>\n",
       "      <td>19492200</td>\n",
       "    </tr>\n",
       "    <tr>\n",
       "      <th>3</th>\n",
       "      <td>2017-01-06</td>\n",
       "      <td>120.980003</td>\n",
       "      <td>123.879997</td>\n",
       "      <td>120.029999</td>\n",
       "      <td>123.410004</td>\n",
       "      <td>123.410004</td>\n",
       "      <td>28545300</td>\n",
       "    </tr>\n",
       "    <tr>\n",
       "      <th>4</th>\n",
       "      <td>2017-01-09</td>\n",
       "      <td>123.550003</td>\n",
       "      <td>125.430000</td>\n",
       "      <td>123.040001</td>\n",
       "      <td>124.900002</td>\n",
       "      <td>124.900002</td>\n",
       "      <td>22880400</td>\n",
       "    </tr>\n",
       "  </tbody>\n",
       "</table>\n",
       "</div>"
      ],
      "text/plain": [
       "         Date        Open        High         Low       Close   Adj Close  \\\n",
       "0  2017-01-03  116.029999  117.839996  115.510002  116.860001  116.860001   \n",
       "1  2017-01-04  117.550003  119.660004  117.290001  118.690002  118.690002   \n",
       "2  2017-01-05  118.860001  120.949997  118.320000  120.669998  120.669998   \n",
       "3  2017-01-06  120.980003  123.879997  120.029999  123.410004  123.410004   \n",
       "4  2017-01-09  123.550003  125.430000  123.040001  124.900002  124.900002   \n",
       "\n",
       "     Volume  \n",
       "0  20663900  \n",
       "1  19630900  \n",
       "2  19492200  \n",
       "3  28545300  \n",
       "4  22880400  "
      ]
     },
     "execution_count": 4,
     "metadata": {},
     "output_type": "execute_result"
    }
   ],
   "source": [
    "stock = pd.read_csv(stock_path)\n",
    "stock.head()"
   ]
  },
  {
   "cell_type": "code",
   "execution_count": 6,
   "metadata": {},
   "outputs": [
    {
     "data": {
      "text/html": [
       "<div>\n",
       "<style scoped>\n",
       "    .dataframe tbody tr th:only-of-type {\n",
       "        vertical-align: middle;\n",
       "    }\n",
       "\n",
       "    .dataframe tbody tr th {\n",
       "        vertical-align: top;\n",
       "    }\n",
       "\n",
       "    .dataframe thead th {\n",
       "        text-align: right;\n",
       "    }\n",
       "</style>\n",
       "<table border=\"1\" class=\"dataframe\">\n",
       "  <thead>\n",
       "    <tr style=\"text-align: right;\">\n",
       "      <th></th>\n",
       "      <th>Close</th>\n",
       "      <th>Year Month</th>\n",
       "    </tr>\n",
       "    <tr>\n",
       "      <th>YYYY-MM</th>\n",
       "      <th></th>\n",
       "      <th></th>\n",
       "    </tr>\n",
       "  </thead>\n",
       "  <tbody>\n",
       "    <tr>\n",
       "      <th>2017-01</th>\n",
       "      <td>126.817499</td>\n",
       "      <td>2017-01-01</td>\n",
       "    </tr>\n",
       "    <tr>\n",
       "      <th>2017-02</th>\n",
       "      <td>133.830525</td>\n",
       "      <td>2017-02-01</td>\n",
       "    </tr>\n",
       "    <tr>\n",
       "      <th>2017-03</th>\n",
       "      <td>139.408261</td>\n",
       "      <td>2017-03-01</td>\n",
       "    </tr>\n",
       "    <tr>\n",
       "      <th>2017-04</th>\n",
       "      <td>142.965263</td>\n",
       "      <td>2017-04-01</td>\n",
       "    </tr>\n",
       "    <tr>\n",
       "      <th>2017-05</th>\n",
       "      <td>150.234093</td>\n",
       "      <td>2017-05-01</td>\n",
       "    </tr>\n",
       "  </tbody>\n",
       "</table>\n",
       "</div>"
      ],
      "text/plain": [
       "              Close Year Month\n",
       "YYYY-MM                       \n",
       "2017-01  126.817499 2017-01-01\n",
       "2017-02  133.830525 2017-02-01\n",
       "2017-03  139.408261 2017-03-01\n",
       "2017-04  142.965263 2017-04-01\n",
       "2017-05  150.234093 2017-05-01"
      ]
     },
     "execution_count": 6,
     "metadata": {},
     "output_type": "execute_result"
    }
   ],
   "source": [
    "#Get the average stock price per month\n",
    "stock[\"YYYY-MM\"] = [x[:7] for x in stock[\"Date\"]]\n",
    "stock_grouped = stock.groupby(\"YYYY-MM\")\n",
    "stock_monthly = pd.DataFrame(stock_grouped[\"Close\"].mean())\n",
    "stock_monthly[\"Year Month\"] = pd.to_datetime(stock_monthly.index)\n",
    "stock_monthly.head()"
   ]
  },
  {
   "cell_type": "code",
   "execution_count": null,
   "metadata": {},
   "outputs": [],
   "source": []
  }
 ],
 "metadata": {
  "kernelspec": {
   "display_name": "Python [conda env:PythonData]",
   "language": "python",
   "name": "conda-env-PythonData-py"
  },
  "language_info": {
   "codemirror_mode": {
    "name": "ipython",
    "version": 3
   },
   "file_extension": ".py",
   "mimetype": "text/x-python",
   "name": "python",
   "nbconvert_exporter": "python",
   "pygments_lexer": "ipython3",
   "version": "3.6.7"
  }
 },
 "nbformat": 4,
 "nbformat_minor": 2
}
